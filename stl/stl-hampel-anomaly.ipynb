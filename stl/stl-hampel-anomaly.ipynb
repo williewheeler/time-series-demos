{
 "cells": [
  {
   "cell_type": "markdown",
   "id": "9d0ac3d0-5205-4bc6-b267-e2a8449f3089",
   "metadata": {},
   "source": [
    "# Anomaly detection with STL and Hampel filter preprocessing "
   ]
  },
  {
   "cell_type": "code",
   "execution_count": 1,
   "id": "4936ae5f-9f96-4709-9e44-150c9735271a",
   "metadata": {},
   "outputs": [
    {
     "ename": "ModuleNotFoundError",
     "evalue": "No module named 'sktime'",
     "output_type": "error",
     "traceback": [
      "\u001b[0;31m---------------------------------------------------------------------------\u001b[0m",
      "\u001b[0;31mModuleNotFoundError\u001b[0m                       Traceback (most recent call last)",
      "Cell \u001b[0;32mIn[1], line 3\u001b[0m\n\u001b[1;32m      1\u001b[0m \u001b[38;5;28;01mimport\u001b[39;00m \u001b[38;5;21;01mmatplotlib\u001b[39;00m\u001b[38;5;21;01m.\u001b[39;00m\u001b[38;5;21;01mpyplot\u001b[39;00m \u001b[38;5;28;01mas\u001b[39;00m \u001b[38;5;21;01mplt\u001b[39;00m\n\u001b[1;32m      2\u001b[0m \u001b[38;5;28;01mimport\u001b[39;00m \u001b[38;5;21;01mpandas\u001b[39;00m \u001b[38;5;28;01mas\u001b[39;00m \u001b[38;5;21;01mpd\u001b[39;00m\n\u001b[0;32m----> 3\u001b[0m \u001b[38;5;28;01mfrom\u001b[39;00m \u001b[38;5;21;01msktime\u001b[39;00m\u001b[38;5;21;01m.\u001b[39;00m\u001b[38;5;21;01mtransformations\u001b[39;00m\u001b[38;5;21;01m.\u001b[39;00m\u001b[38;5;21;01mseries\u001b[39;00m\u001b[38;5;21;01m.\u001b[39;00m\u001b[38;5;21;01moutlier_detection\u001b[39;00m \u001b[38;5;28;01mimport\u001b[39;00m HampelFilter\n\u001b[1;32m      4\u001b[0m \u001b[38;5;28;01mfrom\u001b[39;00m \u001b[38;5;21;01mstatsmodels\u001b[39;00m\u001b[38;5;21;01m.\u001b[39;00m\u001b[38;5;21;01mtsa\u001b[39;00m\u001b[38;5;21;01m.\u001b[39;00m\u001b[38;5;21;01mseasonal\u001b[39;00m \u001b[38;5;28;01mimport\u001b[39;00m STL\n",
      "\u001b[0;31mModuleNotFoundError\u001b[0m: No module named 'sktime'"
     ]
    }
   ],
   "source": [
    "import matplotlib.pyplot as plt\n",
    "import pandas as pd\n",
    "from sktime.transformations.series.outlier_detection import HampelFilter\n",
    "from statsmodels.tsa.seasonal import STL"
   ]
  },
  {
   "cell_type": "code",
   "execution_count": null,
   "id": "6c4ee7d2-d2ba-4e7a-b45e-7ad17d952d65",
   "metadata": {},
   "outputs": [],
   "source": [
    "def plot_with_thresholds(df):\n",
    "    anoms = df.loc[df[\"anom\"], \"latency\"]\n",
    "    fig = plt.figure(figsize=(12, 2))\n",
    "    fig.suptitle(\"Latency\")\n",
    "    plt.plot(df[\"latency\"])\n",
    "    plt.plot(df[\"upper\"], \"r--\")\n",
    "    plt.scatter(x=anoms.index, y=anoms, color=\"r\")\n",
    "    plt.show()"
   ]
  },
  {
   "cell_type": "markdown",
   "id": "a65d69b7-8fcd-4f95-843c-fff61d7835f9",
   "metadata": {},
   "source": [
    "## Raw time series data "
   ]
  },
  {
   "cell_type": "code",
   "execution_count": null,
   "id": "8c55ba72-717b-4c9c-b840-011e15c841be",
   "metadata": {},
   "outputs": [],
   "source": [
    "latency = [\n",
    "    120.0, 102.0, 131.2, 103.8, 99.7, 98.2, 143.2,\n",
    "    118.9, 101.5, 103.0, 97.3, 102.3, 96.4, 139.6,\n",
    "    123.0, 102.0, 101.2, 102.8, 101.9, 98.2, 143.2,\n",
    "    121.1, 98.0, 117.0, 102.4, 103.1, 100.8, 139.6,\n",
    "    117.5, 102.2, 98.2, 103.1, 99.4, 98.2, 163.2,\n",
    "    120.0, 102.0, 101.2, 103.6, 100.9, 98.2, 143.2,\n",
    "    123.2, 135.6, 103.0, 101.4, 102.2, 100.3, 139.6,\n",
    "    121.9, 98.1, 103.0, 102.1, 103.7, 102.4, 139.6,\n",
    "    119.8, 93.0, 101.2, 99.4, 108.5, 98.3, 139.6,\n",
    "    123.3, 102.2, 98.2, 103.1, 99.4, 98.2, 153.2,\n",
    "    117.0, 102.0, 101.2, 103.8, 101.9, 98.2, 143.2,\n",
    "]"
   ]
  },
  {
   "cell_type": "code",
   "execution_count": null,
   "id": "8a24b521-8ec8-40a3-8e0e-345a22460a18",
   "metadata": {},
   "outputs": [],
   "source": [
    "df = pd.DataFrame(\n",
    "    {\"latency\": latency},\n",
    "    index=pd.date_range(\"2022-01-01\", periods=len(latency), freq=\"D\")\n",
    ")"
   ]
  },
  {
   "cell_type": "code",
   "execution_count": null,
   "id": "38c2ba41-543b-4c7a-8117-78a34af90ecb",
   "metadata": {},
   "outputs": [],
   "source": [
    "fig = plt.figure(figsize=(12, 2))\n",
    "plt.plot(df[\"latency\"])\n",
    "plt.show()"
   ]
  },
  {
   "cell_type": "markdown",
   "id": "ed3b93c1-472f-4d90-9c62-1eb96f3a1f56",
   "metadata": {},
   "source": [
    "## Preprocessing: STL decomposition "
   ]
  },
  {
   "cell_type": "code",
   "execution_count": null,
   "id": "80ecd31f-2ffa-40b1-87b5-a019065d1eaf",
   "metadata": {},
   "outputs": [],
   "source": [
    "stl = STL(df[\"latency\"])\n",
    "res = stl.fit()\n",
    "df[\"resid\"] = res.resid"
   ]
  },
  {
   "cell_type": "code",
   "execution_count": null,
   "id": "063d3e4b-7b7b-4593-a294-7ca84cb20e1e",
   "metadata": {},
   "outputs": [],
   "source": [
    "fig = res.plot()"
   ]
  },
  {
   "cell_type": "code",
   "execution_count": null,
   "id": "86b67b98-e032-4d6b-a09a-762c0e4b9c30",
   "metadata": {},
   "outputs": [],
   "source": [
    "fig = plt.figure(figsize=(12, 2))\n",
    "plt.plot(df[\"resid\"])\n",
    "plt.show()"
   ]
  },
  {
   "cell_type": "markdown",
   "id": "0360720a-1904-4137-9b4a-ab07cf3e6b4c",
   "metadata": {},
   "source": [
    "## Preprocessing: Apply Hampel filter to remove outliers"
   ]
  },
  {
   "cell_type": "code",
   "execution_count": null,
   "id": "def13b9f-e6e0-4983-8bcd-728dfb2163af",
   "metadata": {},
   "outputs": [],
   "source": [
    "filter = HampelFilter(window_length=5)\n",
    "df[\"train\"] = filter.fit_transform(df[\"resid\"])"
   ]
  },
  {
   "cell_type": "code",
   "execution_count": null,
   "id": "aacd61c2-7837-4761-91e2-f6551f2a6bc9",
   "metadata": {},
   "outputs": [],
   "source": [
    "fig = plt.figure(figsize=(12, 2))\n",
    "plt.plot(df[\"train\"])\n",
    "plt.show()"
   ]
  },
  {
   "cell_type": "markdown",
   "id": "f2ccc09c-498f-4d8d-9c45-5aa0c66eb260",
   "metadata": {},
   "source": [
    "## Fit IQR threshold\n",
    "\n",
    "Note: We aren't doing a train/test split here. Ideally we should do that to avoid overfitting."
   ]
  },
  {
   "cell_type": "code",
   "execution_count": null,
   "id": "f1c34b2a-50d9-4a9c-87f8-d8c73207117a",
   "metadata": {},
   "outputs": [],
   "source": [
    "q1 = df[\"train\"].quantile(0.25)\n",
    "q3 = df[\"train\"].quantile(0.75)\n",
    "iqr = q3 - q1\n",
    "upper_resid = q3 + 1.5 * iqr"
   ]
  },
  {
   "cell_type": "code",
   "execution_count": null,
   "id": "fd658c7d-f36f-4699-b731-70fe180770f4",
   "metadata": {},
   "outputs": [],
   "source": [
    "upper_resid"
   ]
  },
  {
   "cell_type": "code",
   "execution_count": null,
   "id": "7f0d68f3-3cf7-4370-8921-d7dd41e2cc90",
   "metadata": {},
   "outputs": [],
   "source": [
    "fig = plt.figure(figsize=(12, 2))\n",
    "plt.plot(df[\"train\"])\n",
    "plt.plot([df.index[0], df.index[-1]], [upper_resid, upper_resid], \"k--\")\n",
    "plt.show()"
   ]
  },
  {
   "cell_type": "code",
   "execution_count": null,
   "id": "dddc8ce4-5b86-4536-be81-f7bcc94eaa35",
   "metadata": {},
   "outputs": [],
   "source": [
    "df[\"expected\"] = res.trend + res.seasonal\n",
    "df[\"upper\"] = df[\"expected\"] + upper_resid"
   ]
  },
  {
   "cell_type": "markdown",
   "id": "5321e1d4-b5be-48de-851f-21541ce55c81",
   "metadata": {},
   "source": [
    "## Apply threshold to full series"
   ]
  },
  {
   "cell_type": "code",
   "execution_count": null,
   "id": "fd702290-e91e-406e-ad54-a6dc64ff4128",
   "metadata": {},
   "outputs": [],
   "source": [
    "df[\"anom\"] = df[\"resid\"] >= upper_resid"
   ]
  },
  {
   "cell_type": "markdown",
   "id": "04c10d83-c80b-4f89-839f-adf7b48d9301",
   "metadata": {},
   "source": [
    "## Plots "
   ]
  },
  {
   "cell_type": "code",
   "execution_count": null,
   "id": "c131d1e5-d810-4370-bebe-d802173b97c3",
   "metadata": {},
   "outputs": [],
   "source": [
    "anoms_resid = df.loc[df[\"anom\"], \"resid\"]\n",
    "anoms = df.loc[df[\"anom\"], \"latency\"]"
   ]
  },
  {
   "cell_type": "code",
   "execution_count": null,
   "id": "6be85766-7e1a-49b2-92c2-d797d945e350",
   "metadata": {},
   "outputs": [],
   "source": [
    "fig = plt.figure(figsize=(12, 2))\n",
    "fig.suptitle(\"Latency remainder\")\n",
    "plt.plot(df[\"resid\"])\n",
    "plt.plot([df.index[0], df.index[-1]], [upper_resid, upper_resid], \"k--\")\n",
    "plt.scatter(x=anoms_resid.index, y=anoms_resid, color=\"r\")\n",
    "plt.show()"
   ]
  },
  {
   "cell_type": "code",
   "execution_count": null,
   "id": "d6caf75f-b589-44ce-8f3b-f23420eddf98",
   "metadata": {},
   "outputs": [],
   "source": [
    "fig = plt.figure(figsize=(12, 2))\n",
    "fig.suptitle(\"Latency\")\n",
    "plt.stackplot(df.index, df[\"upper\"], color=\"k\", alpha=0.1)\n",
    "plt.plot(df[\"latency\"], color=\"#1f77b4\")\n",
    "#plt.plot(df[\"expected\"], \"g--\", alpha=0.5)\n",
    "plt.scatter(x=anoms.index, y=anoms, color=\"r\")\n",
    "plt.show()"
   ]
  },
  {
   "cell_type": "code",
   "execution_count": null,
   "id": "e169f409-39bd-4005-8c0a-7d7ddbf8b563",
   "metadata": {},
   "outputs": [],
   "source": []
  },
  {
   "cell_type": "code",
   "execution_count": null,
   "id": "d8f21def-46ac-4071-bdaa-0d38fe888f33",
   "metadata": {},
   "outputs": [],
   "source": []
  }
 ],
 "metadata": {
  "kernelspec": {
   "display_name": "Python 3 (ipykernel)",
   "language": "python",
   "name": "python3"
  },
  "language_info": {
   "codemirror_mode": {
    "name": "ipython",
    "version": 3
   },
   "file_extension": ".py",
   "mimetype": "text/x-python",
   "name": "python",
   "nbconvert_exporter": "python",
   "pygments_lexer": "ipython3",
   "version": "3.10.8"
  }
 },
 "nbformat": 4,
 "nbformat_minor": 5
}
